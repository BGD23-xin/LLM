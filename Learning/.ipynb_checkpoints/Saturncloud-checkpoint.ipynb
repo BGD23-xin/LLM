{
 "cells": [
  {
   "cell_type": "markdown",
   "id": "a3068d90-e46c-4699-93bf-e01de1728c73",
   "metadata": {},
   "source": [
    "## google/flan-t5-xl"
   ]
  },
  {
   "cell_type": "code",
   "execution_count": 7,
   "id": "dc5d86b1-69f8-4ea0-9a2a-121624bbf6a2",
   "metadata": {
    "execution": {
     "iopub.execute_input": "2025-06-05T14:08:45.326173Z",
     "iopub.status.busy": "2025-06-05T14:08:45.325938Z",
     "iopub.status.idle": "2025-06-05T14:08:45.328819Z",
     "shell.execute_reply": "2025-06-05T14:08:45.328381Z",
     "shell.execute_reply.started": "2025-06-05T14:08:45.326158Z"
    }
   },
   "outputs": [],
   "source": [
    "import os\n",
    "os.environ['HF_HOME'] = '/run/cache/'"
   ]
  },
  {
   "cell_type": "code",
   "execution_count": 8,
   "id": "589713d5-faf5-44e4-aac6-80a7e09c6bd8",
   "metadata": {
    "execution": {
     "iopub.execute_input": "2025-06-05T14:09:02.513715Z",
     "iopub.status.busy": "2025-06-05T14:09:02.513057Z",
     "iopub.status.idle": "2025-06-05T14:09:03.252401Z",
     "shell.execute_reply": "2025-06-05T14:09:03.251805Z",
     "shell.execute_reply.started": "2025-06-05T14:09:02.513699Z"
    }
   },
   "outputs": [
    {
     "name": "stdout",
     "output_type": "stream",
     "text": [
      "--2025-06-05 14:09:02--  https://raw.githubusercontent.com/alexeygrigorev/minsearch/main/minsearch.py\n",
      "Resolving raw.githubusercontent.com (raw.githubusercontent.com)... 185.199.111.133, 185.199.108.133, 185.199.110.133, ...\n",
      "Connecting to raw.githubusercontent.com (raw.githubusercontent.com)|185.199.111.133|:443... connected.\n",
      "HTTP request sent, awaiting response... 200 OK\n",
      "Length: 3832 (3.7K) [text/plain]\n",
      "Saving to: ‘minsearch.py’\n",
      "\n",
      "minsearch.py        100%[===================>]   3.74K  --.-KB/s    in 0s      \n",
      "\n",
      "2025-06-05 14:09:03 (93.2 MB/s) - ‘minsearch.py’ saved [3832/3832]\n",
      "\n"
     ]
    }
   ],
   "source": [
    "!rm -f minsearch.py\n",
    "!wget https://raw.githubusercontent.com/alexeygrigorev/minsearch/main/minsearch.py"
   ]
  },
  {
   "cell_type": "code",
   "execution_count": 9,
   "id": "6e618d14-ef0b-4321-a726-b2b4bab9beaf",
   "metadata": {
    "execution": {
     "iopub.execute_input": "2025-06-05T14:09:30.111118Z",
     "iopub.status.busy": "2025-06-05T14:09:30.110518Z",
     "iopub.status.idle": "2025-06-05T14:09:31.085667Z",
     "shell.execute_reply": "2025-06-05T14:09:31.085177Z",
     "shell.execute_reply.started": "2025-06-05T14:09:30.111096Z"
    }
   },
   "outputs": [
    {
     "data": {
      "text/plain": [
       "<minsearch.Index at 0x7f7e986d29c0>"
      ]
     },
     "execution_count": 9,
     "metadata": {},
     "output_type": "execute_result"
    }
   ],
   "source": [
    "import requests \n",
    "import minsearch\n",
    "\n",
    "docs_url = 'https://github.com/DataTalksClub/llm-zoomcamp/blob/main/01-intro/documents.json?raw=1'\n",
    "docs_response = requests.get(docs_url)\n",
    "documents_raw = docs_response.json()\n",
    "\n",
    "documents = []\n",
    "\n",
    "for course in documents_raw:\n",
    "    course_name = course['course']\n",
    "\n",
    "    for doc in course['documents']:\n",
    "        doc['course'] = course_name\n",
    "        documents.append(doc)\n",
    "\n",
    "index = minsearch.Index(\n",
    "    text_fields=[\"question\", \"text\", \"section\"],\n",
    "    keyword_fields=[\"course\"]\n",
    ")\n",
    "\n",
    "index.fit(documents)"
   ]
  },
  {
   "cell_type": "code",
   "execution_count": 10,
   "id": "68c8d3dc-5ced-4dea-97fd-7256d053c237",
   "metadata": {
    "execution": {
     "iopub.execute_input": "2025-06-05T14:09:38.259941Z",
     "iopub.status.busy": "2025-06-05T14:09:38.259402Z",
     "iopub.status.idle": "2025-06-05T14:09:38.262681Z",
     "shell.execute_reply": "2025-06-05T14:09:38.262286Z",
     "shell.execute_reply.started": "2025-06-05T14:09:38.259924Z"
    }
   },
   "outputs": [],
   "source": [
    "def search(query):\n",
    "    boost = {'question': 3.0, 'section': 0.5}\n",
    "\n",
    "    results = index.search(\n",
    "        query=query,\n",
    "        filter_dict={'course': 'data-engineering-zoomcamp'},\n",
    "        boost_dict=boost,\n",
    "        num_results=5\n",
    "    )\n",
    "\n",
    "    return results"
   ]
  },
  {
   "cell_type": "code",
   "execution_count": 11,
   "id": "d98e5a62-1086-4cb4-bb90-21fdc9e2b942",
   "metadata": {
    "execution": {
     "iopub.execute_input": "2025-06-05T14:09:47.359031Z",
     "iopub.status.busy": "2025-06-05T14:09:47.358337Z",
     "iopub.status.idle": "2025-06-05T14:09:47.361397Z",
     "shell.execute_reply": "2025-06-05T14:09:47.361016Z",
     "shell.execute_reply.started": "2025-06-05T14:09:47.359015Z"
    }
   },
   "outputs": [],
   "source": [
    "def rag(query):\n",
    "    search_results = search(query)\n",
    "    prompt = build_prompt(query, search_results)\n",
    "    answer = llm(prompt)\n",
    "    return answer"
   ]
  },
  {
   "cell_type": "code",
   "execution_count": 12,
   "id": "cdc382cb-084c-4074-aec1-0a551d0ff0c6",
   "metadata": {
    "execution": {
     "iopub.execute_input": "2025-06-05T14:10:03.895639Z",
     "iopub.status.busy": "2025-06-05T14:10:03.894962Z",
     "iopub.status.idle": "2025-06-05T14:10:04.158170Z",
     "shell.execute_reply": "2025-06-05T14:10:04.157606Z",
     "shell.execute_reply.started": "2025-06-05T14:10:03.895622Z"
    }
   },
   "outputs": [
    {
     "name": "stdout",
     "output_type": "stream",
     "text": [
      "Filesystem      Size  Used Avail Use% Mounted on\n",
      "overlay          90G   74G   17G  83% /\n",
      "tmpfs            64M     0   64M   0% /dev\n",
      "/dev/vda1        90G   74G   17G  83% /run\n",
      "tmpfs           196G   20K  196G   1% /dev/shm\n",
      "/dev/vdc         98G   11G   88G  11% /home/jovyan\n",
      "tmpfs           196G  116K  196G   1% /home/jovyan/.saturn\n",
      "tmpfs           196G   12K  196G   1% /run/secrets/kubernetes.io/serviceaccount\n",
      "tmpfs            99G   12K   99G   1% /proc/driver/nvidia\n",
      "overlay          90G   74G   17G  83% /usr/bin/nvidia-smi\n",
      "tmpfs            20G   65M   20G   1% /usr/lib/firmware/nvidia/550.54.15/gsp_ga10x.bin\n",
      "tmpfs            64M     0   64M   0% /dev/nvidia0\n",
      "tmpfs            99G     0   99G   0% /proc/acpi\n",
      "tmpfs            99G     0   99G   0% /proc/scsi\n",
      "tmpfs            99G     0   99G   0% /sys/firmware\n",
      "tmpfs            99G     0   99G   0% /sys/devices/virtual/powercap\n"
     ]
    }
   ],
   "source": [
    "!df -h"
   ]
  },
  {
   "cell_type": "code",
   "execution_count": 1,
   "id": "61c25b7c-ada6-437c-8240-bce1695cc216",
   "metadata": {
    "execution": {
     "iopub.execute_input": "2025-06-05T14:03:15.771235Z",
     "iopub.status.busy": "2025-06-05T14:03:15.770586Z",
     "iopub.status.idle": "2025-06-05T14:03:23.887502Z",
     "shell.execute_reply": "2025-06-05T14:03:23.886942Z",
     "shell.execute_reply.started": "2025-06-05T14:03:15.771218Z"
    }
   },
   "outputs": [],
   "source": [
    "from transformers import T5Tokenizer, T5ForConditionalGeneration\n"
   ]
  },
  {
   "cell_type": "code",
   "execution_count": 2,
   "id": "c7987875-003e-48ad-bd3c-9fcced9c6f29",
   "metadata": {
    "execution": {
     "iopub.execute_input": "2025-06-05T14:03:26.108898Z",
     "iopub.status.busy": "2025-06-05T14:03:26.108096Z",
     "iopub.status.idle": "2025-06-05T14:03:53.106683Z",
     "shell.execute_reply": "2025-06-05T14:03:53.105986Z",
     "shell.execute_reply.started": "2025-06-05T14:03:26.108879Z"
    }
   },
   "outputs": [
    {
     "data": {
      "application/vnd.jupyter.widget-view+json": {
       "model_id": "5c26d52e574145489f4362f8a527b4db",
       "version_major": 2,
       "version_minor": 0
      },
      "text/plain": [
       "tokenizer_config.json:   0%|          | 0.00/2.54k [00:00<?, ?B/s]"
      ]
     },
     "metadata": {},
     "output_type": "display_data"
    },
    {
     "data": {
      "application/vnd.jupyter.widget-view+json": {
       "model_id": "cf42784d44c74e71b9ac8f7e057d7794",
       "version_major": 2,
       "version_minor": 0
      },
      "text/plain": [
       "spiece.model:   0%|          | 0.00/792k [00:00<?, ?B/s]"
      ]
     },
     "metadata": {},
     "output_type": "display_data"
    },
    {
     "data": {
      "application/vnd.jupyter.widget-view+json": {
       "model_id": "6793d9dcd7d444eba4854b1d51a514f4",
       "version_major": 2,
       "version_minor": 0
      },
      "text/plain": [
       "special_tokens_map.json:   0%|          | 0.00/2.20k [00:00<?, ?B/s]"
      ]
     },
     "metadata": {},
     "output_type": "display_data"
    },
    {
     "data": {
      "application/vnd.jupyter.widget-view+json": {
       "model_id": "a3188f8d101d4424aac0c9a29a3511f9",
       "version_major": 2,
       "version_minor": 0
      },
      "text/plain": [
       "tokenizer.json:   0%|          | 0.00/2.42M [00:00<?, ?B/s]"
      ]
     },
     "metadata": {},
     "output_type": "display_data"
    },
    {
     "name": "stderr",
     "output_type": "stream",
     "text": [
      "You are using the default legacy behaviour of the <class 'transformers.models.t5.tokenization_t5.T5Tokenizer'>. This is expected, and simply means that the `legacy` (previous) behavior will be used so nothing changes for you. If you want to use the new behaviour, set `legacy=False`. This should only be set if you understand what it means, and thoroughly read the reason why this was added as explained in https://github.com/huggingface/transformers/pull/24565\n"
     ]
    },
    {
     "data": {
      "application/vnd.jupyter.widget-view+json": {
       "model_id": "cbfad6959c6444bf80f7e942925126a1",
       "version_major": 2,
       "version_minor": 0
      },
      "text/plain": [
       "config.json:   0%|          | 0.00/1.44k [00:00<?, ?B/s]"
      ]
     },
     "metadata": {},
     "output_type": "display_data"
    },
    {
     "data": {
      "application/vnd.jupyter.widget-view+json": {
       "model_id": "f4773b75cc7b46348ead442fcf9cc79d",
       "version_major": 2,
       "version_minor": 0
      },
      "text/plain": [
       "model.safetensors.index.json:   0%|          | 0.00/53.0k [00:00<?, ?B/s]"
      ]
     },
     "metadata": {},
     "output_type": "display_data"
    },
    {
     "data": {
      "application/vnd.jupyter.widget-view+json": {
       "model_id": "ca8dad58ef524c6395794cadcbde6837",
       "version_major": 2,
       "version_minor": 0
      },
      "text/plain": [
       "Fetching 2 files:   0%|          | 0/2 [00:00<?, ?it/s]"
      ]
     },
     "metadata": {},
     "output_type": "display_data"
    },
    {
     "data": {
      "application/vnd.jupyter.widget-view+json": {
       "model_id": "b4b19d3545834b33a7b164fd64f4cef6",
       "version_major": 2,
       "version_minor": 0
      },
      "text/plain": [
       "model-00001-of-00002.safetensors:   0%|          | 0.00/9.45G [00:00<?, ?B/s]"
      ]
     },
     "metadata": {},
     "output_type": "display_data"
    },
    {
     "data": {
      "application/vnd.jupyter.widget-view+json": {
       "model_id": "46c8e6b078584398a38d890d10f301f7",
       "version_major": 2,
       "version_minor": 0
      },
      "text/plain": [
       "model-00002-of-00002.safetensors:   0%|          | 0.00/1.95G [00:00<?, ?B/s]"
      ]
     },
     "metadata": {},
     "output_type": "display_data"
    },
    {
     "data": {
      "application/vnd.jupyter.widget-view+json": {
       "model_id": "60790b07f923476bb4d71caa96549552",
       "version_major": 2,
       "version_minor": 0
      },
      "text/plain": [
       "Loading checkpoint shards:   0%|          | 0/2 [00:00<?, ?it/s]"
      ]
     },
     "metadata": {},
     "output_type": "display_data"
    },
    {
     "data": {
      "application/vnd.jupyter.widget-view+json": {
       "model_id": "92861788fa79405185b676b43fa933e4",
       "version_major": 2,
       "version_minor": 0
      },
      "text/plain": [
       "generation_config.json:   0%|          | 0.00/147 [00:00<?, ?B/s]"
      ]
     },
     "metadata": {},
     "output_type": "display_data"
    }
   ],
   "source": [
    "tokenizer = T5Tokenizer.from_pretrained(\"google/flan-t5-xl\")\n",
    "model = T5ForConditionalGeneration.from_pretrained(\"google/flan-t5-xl\", device_map=\"auto\")\n",
    "\n"
   ]
  },
  {
   "cell_type": "code",
   "execution_count": 4,
   "id": "7189a73a-e92f-4afc-901d-6a66c8e81d14",
   "metadata": {
    "execution": {
     "iopub.execute_input": "2025-06-05T14:07:09.913845Z",
     "iopub.status.busy": "2025-06-05T14:07:09.913319Z",
     "iopub.status.idle": "2025-06-05T14:07:09.920845Z",
     "shell.execute_reply": "2025-06-05T14:07:09.920450Z",
     "shell.execute_reply.started": "2025-06-05T14:07:09.913829Z"
    }
   },
   "outputs": [
    {
     "data": {
      "text/plain": [
       "tensor([[13959,  1566,    12,  2968,    10,   571,   625,    33,    25,    58,\n",
       "             1]], device='cuda:0')"
      ]
     },
     "execution_count": 4,
     "metadata": {},
     "output_type": "execute_result"
    }
   ],
   "source": [
    "input_text = \"translate English to German: How old are you?\"\n",
    "input_ids = tokenizer(input_text, return_tensors=\"pt\").input_ids.to(\"cuda\")\n",
    "input_ids"
   ]
  },
  {
   "cell_type": "code",
   "execution_count": 5,
   "id": "6c01289e-0869-42c3-8476-8c3edefb26ea",
   "metadata": {
    "execution": {
     "iopub.execute_input": "2025-06-05T14:07:11.883538Z",
     "iopub.status.busy": "2025-06-05T14:07:11.882873Z",
     "iopub.status.idle": "2025-06-05T14:07:11.990846Z",
     "shell.execute_reply": "2025-06-05T14:07:11.990353Z",
     "shell.execute_reply.started": "2025-06-05T14:07:11.883522Z"
    }
   },
   "outputs": [
    {
     "name": "stdout",
     "output_type": "stream",
     "text": [
      "<pad> Wie alt sind Sie?</s>\n"
     ]
    }
   ],
   "source": [
    "outputs = model.generate(input_ids)\n",
    "print(tokenizer.decode(outputs[0]))"
   ]
  },
  {
   "cell_type": "code",
   "execution_count": 16,
   "id": "fa6d1bf9-df46-4fa1-81b5-4c4ca49db27a",
   "metadata": {
    "execution": {
     "iopub.execute_input": "2025-06-05T14:16:56.284291Z",
     "iopub.status.busy": "2025-06-05T14:16:56.283521Z",
     "iopub.status.idle": "2025-06-05T14:16:56.287339Z",
     "shell.execute_reply": "2025-06-05T14:16:56.286909Z",
     "shell.execute_reply.started": "2025-06-05T14:16:56.284268Z"
    }
   },
   "outputs": [],
   "source": [
    "def build_prompt(query, search_results):\n",
    "    prompt_template = \"\"\"\n",
    "You're a course teaching assistant. Answer the QUESTION based on the CONTEXT from the FAQ database.\n",
    "Use only the facts from the CONTEXT when answering the QUESTION.\n",
    "\n",
    "QUESTION: {question}\n",
    "\n",
    "CONTEXT:\n",
    "{context}\n",
    "\"\"\".strip()\n",
    "\n",
    "    context = \"\"\n",
    "    \n",
    "    for doc in search_results:\n",
    "        context = context + f\"section: {doc['section']}\\nquestion: {doc['question']}\\nanswer: {doc['text']}\\n\\n\"\n",
    "    \n",
    "    prompt = prompt_template.format(question=query, context=context).strip()\n",
    "    return prompt\n",
    "\n",
    "def llm(prompt):\n",
    "    input_ids = tokenizer(prompt, return_tensors=\"pt\").input_ids.to(\"cuda\")\n",
    "    outputs = model.generate(input_ids, )\n",
    "    result = tokenizer.decode(outputs[0])\n",
    "    return result"
   ]
  },
  {
   "cell_type": "code",
   "execution_count": 17,
   "id": "723f5ae5-0aa4-4d51-99d9-12f30c729c5e",
   "metadata": {
    "execution": {
     "iopub.execute_input": "2025-06-05T14:16:56.999585Z",
     "iopub.status.busy": "2025-06-05T14:16:56.998937Z",
     "iopub.status.idle": "2025-06-05T14:16:57.345303Z",
     "shell.execute_reply": "2025-06-05T14:16:57.344873Z",
     "shell.execute_reply.started": "2025-06-05T14:16:56.999570Z"
    }
   },
   "outputs": [
    {
     "data": {
      "text/plain": [
       "\"<pad>Yes, even if you don't register, you're still eligible to submit the homework\""
      ]
     },
     "execution_count": 17,
     "metadata": {},
     "output_type": "execute_result"
    }
   ],
   "source": [
    "rag(\"I just discovered the course. Can I still join it?\")\n"
   ]
  },
  {
   "cell_type": "code",
   "execution_count": 14,
   "id": "80a125d4-5b5e-498c-b68b-7ddbb5781393",
   "metadata": {
    "execution": {
     "iopub.execute_input": "2025-06-05T14:12:46.818875Z",
     "iopub.status.busy": "2025-06-05T14:12:46.818373Z",
     "iopub.status.idle": "2025-06-05T14:12:46.822179Z",
     "shell.execute_reply": "2025-06-05T14:12:46.821734Z",
     "shell.execute_reply.started": "2025-06-05T14:12:46.818859Z"
    }
   },
   "outputs": [],
   "source": [
    "def llm(prompt, generate_params=None):\n",
    "    if generate_params is None:\n",
    "        generate_params = {}\n",
    "\n",
    "    input_ids = tokenizer(prompt, return_tensors=\"pt\").input_ids.to(\"cuda\")\n",
    "    outputs = model.generate(\n",
    "        input_ids,\n",
    "        max_length=generate_params.get(\"max_length\", 100),\n",
    "        num_beams=generate_params.get(\"num_beams\", 5),\n",
    "        do_sample=generate_params.get(\"do_sample\", False),\n",
    "        temperature=generate_params.get(\"temperature\", 1.0),\n",
    "        top_k=generate_params.get(\"top_k\", 50),\n",
    "        top_p=generate_params.get(\"top_p\", 0.95),\n",
    "    )\n",
    "    result = tokenizer.decode(outputs[0], skip_special_tokens=True)\n",
    "    return result"
   ]
  },
  {
   "cell_type": "code",
   "execution_count": 15,
   "id": "9510572f-91f5-40d4-9165-33d34c474fef",
   "metadata": {
    "execution": {
     "iopub.execute_input": "2025-06-05T14:12:47.746074Z",
     "iopub.status.busy": "2025-06-05T14:12:47.745425Z",
     "iopub.status.idle": "2025-06-05T14:12:48.774064Z",
     "shell.execute_reply": "2025-06-05T14:12:48.773664Z",
     "shell.execute_reply.started": "2025-06-05T14:12:47.746058Z"
    }
   },
   "outputs": [
    {
     "name": "stderr",
     "output_type": "stream",
     "text": [
      "The following generation flags are not valid and may be ignored: ['top_p']. Set `TRANSFORMERS_VERBOSITY=info` for more details.\n"
     ]
    },
    {
     "data": {
      "text/plain": [
       "\"Yes, even if you don't register, you're still eligible to submit the homeworks. Be aware, however, that there will be deadlines for turning in the final projects. So don't leave everything for the last minute.\""
      ]
     },
     "execution_count": 15,
     "metadata": {},
     "output_type": "execute_result"
    }
   ],
   "source": [
    "rag(\"I just discovered the course. Can I still join it?\")\n"
   ]
  },
  {
   "cell_type": "code",
   "execution_count": null,
   "id": "82069a54-93a9-4fef-be17-c44ba970b628",
   "metadata": {},
   "outputs": [],
   "source": []
  }
 ],
 "metadata": {
  "kernelspec": {
   "display_name": "saturn (Python 3)",
   "language": "python",
   "name": "python3"
  },
  "language_info": {
   "codemirror_mode": {
    "name": "ipython",
    "version": 3
   },
   "file_extension": ".py",
   "mimetype": "text/x-python",
   "name": "python",
   "nbconvert_exporter": "python",
   "pygments_lexer": "ipython3",
   "version": "3.12.7"
  }
 },
 "nbformat": 4,
 "nbformat_minor": 5
}
