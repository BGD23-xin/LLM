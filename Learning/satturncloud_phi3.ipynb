{
 "cells": [
  {
   "cell_type": "code",
   "execution_count": 1,
   "id": "c1afa40b-34a1-454c-93d9-2629a55799c4",
   "metadata": {
    "execution": {
     "iopub.execute_input": "2025-06-05T15:18:33.277806Z",
     "iopub.status.busy": "2025-06-05T15:18:33.277523Z",
     "iopub.status.idle": "2025-06-05T15:18:33.312675Z",
     "shell.execute_reply": "2025-06-05T15:18:33.312226Z",
     "shell.execute_reply.started": "2025-06-05T15:18:33.277792Z"
    }
   },
   "outputs": [],
   "source": [
    "%reset -f"
   ]
  },
  {
   "cell_type": "code",
   "execution_count": 1,
   "id": "a194bb38-cfc9-465a-b9fd-0ba118094649",
   "metadata": {
    "execution": {
     "iopub.execute_input": "2025-06-05T15:21:23.123095Z",
     "iopub.status.busy": "2025-06-05T15:21:23.122975Z",
     "iopub.status.idle": "2025-06-05T15:21:23.125488Z",
     "shell.execute_reply": "2025-06-05T15:21:23.125054Z",
     "shell.execute_reply.started": "2025-06-05T15:21:23.123080Z"
    }
   },
   "outputs": [],
   "source": [
    "import os\n",
    "os.environ['HF_HOME'] = '/run/cache/'"
   ]
  },
  {
   "cell_type": "code",
   "execution_count": 2,
   "id": "2a78ef88-ead8-4980-bb57-e16b0243e34a",
   "metadata": {
    "execution": {
     "iopub.execute_input": "2025-06-05T15:21:23.858420Z",
     "iopub.status.busy": "2025-06-05T15:21:23.857914Z",
     "iopub.status.idle": "2025-06-05T15:21:25.398630Z",
     "shell.execute_reply": "2025-06-05T15:21:25.398211Z",
     "shell.execute_reply.started": "2025-06-05T15:21:23.858402Z"
    }
   },
   "outputs": [
    {
     "data": {
      "text/plain": [
       "<minsearch.Index at 0x7f38ba0639e0>"
      ]
     },
     "execution_count": 2,
     "metadata": {},
     "output_type": "execute_result"
    }
   ],
   "source": [
    "import requests \n",
    "import minsearch\n",
    "\n",
    "docs_url = 'https://github.com/DataTalksClub/llm-zoomcamp/blob/main/01-intro/documents.json?raw=1'\n",
    "docs_response = requests.get(docs_url)\n",
    "documents_raw = docs_response.json()\n",
    "\n",
    "documents = []\n",
    "\n",
    "for course in documents_raw:\n",
    "    course_name = course['course']\n",
    "\n",
    "    for doc in course['documents']:\n",
    "        doc['course'] = course_name\n",
    "        documents.append(doc)\n",
    "\n",
    "index = minsearch.Index(\n",
    "    text_fields=[\"question\", \"text\", \"section\"],\n",
    "    keyword_fields=[\"course\"]\n",
    ")\n",
    "\n",
    "index.fit(documents)"
   ]
  },
  {
   "cell_type": "code",
   "execution_count": 3,
   "id": "11bda169-661a-462c-b206-6a0ebbc27e6a",
   "metadata": {
    "execution": {
     "iopub.execute_input": "2025-06-05T15:21:25.922142Z",
     "iopub.status.busy": "2025-06-05T15:21:25.921505Z",
     "iopub.status.idle": "2025-06-05T15:21:25.924854Z",
     "shell.execute_reply": "2025-06-05T15:21:25.924472Z",
     "shell.execute_reply.started": "2025-06-05T15:21:25.922124Z"
    }
   },
   "outputs": [],
   "source": [
    "def search(query):\n",
    "    boost = {'question': 3.0, 'section': 0.5}\n",
    "\n",
    "    results = index.search(\n",
    "        query=query,\n",
    "        filter_dict={'course': 'data-engineering-zoomcamp'},\n",
    "        boost_dict=boost,\n",
    "        num_results=5\n",
    "    )\n",
    "\n",
    "    return results"
   ]
  },
  {
   "cell_type": "code",
   "execution_count": 4,
   "id": "67504e3b-4ed0-427f-b08a-39ec63362ab6",
   "metadata": {
    "execution": {
     "iopub.execute_input": "2025-06-05T15:21:26.802711Z",
     "iopub.status.busy": "2025-06-05T15:21:26.802066Z",
     "iopub.status.idle": "2025-06-05T15:21:26.805023Z",
     "shell.execute_reply": "2025-06-05T15:21:26.804647Z",
     "shell.execute_reply.started": "2025-06-05T15:21:26.802695Z"
    }
   },
   "outputs": [],
   "source": [
    "def rag(query):\n",
    "    search_results = search(query)\n",
    "    prompt = build_prompt(query, search_results)\n",
    "    answer = llm(prompt)\n",
    "    return answer"
   ]
  },
  {
   "cell_type": "code",
   "execution_count": 5,
   "id": "6331ecc3-acbf-47f6-87fc-07f1dcebf8f8",
   "metadata": {
    "execution": {
     "iopub.execute_input": "2025-06-05T15:21:27.272582Z",
     "iopub.status.busy": "2025-06-05T15:21:27.271994Z",
     "iopub.status.idle": "2025-06-05T15:21:29.789544Z",
     "shell.execute_reply": "2025-06-05T15:21:29.789050Z",
     "shell.execute_reply.started": "2025-06-05T15:21:27.272565Z"
    }
   },
   "outputs": [
    {
     "data": {
      "text/plain": [
       "<torch._C.Generator at 0x7f38b9a6bbb0>"
      ]
     },
     "execution_count": 5,
     "metadata": {},
     "output_type": "execute_result"
    }
   ],
   "source": [
    "import torch\n",
    "from transformers import AutoModelForCausalLM, AutoTokenizer, pipeline\n",
    "\n",
    "torch.random.manual_seed(0)"
   ]
  },
  {
   "cell_type": "code",
   "execution_count": 6,
   "id": "ff6bc253-298c-4f00-84a0-ac50ae53933e",
   "metadata": {
    "execution": {
     "iopub.execute_input": "2025-06-05T15:21:30.971867Z",
     "iopub.status.busy": "2025-06-05T15:21:30.971064Z",
     "iopub.status.idle": "2025-06-05T15:21:33.763929Z",
     "shell.execute_reply": "2025-06-05T15:21:33.763398Z",
     "shell.execute_reply.started": "2025-06-05T15:21:30.971850Z"
    }
   },
   "outputs": [
    {
     "name": "stderr",
     "output_type": "stream",
     "text": [
      "`flash-attention` package not found, consider installing for better performance: No module named 'flash_attn'.\n",
      "Current `flash-attention` does not support `window_size`. Either upgrade or use `attn_implementation='eager'`.\n"
     ]
    },
    {
     "data": {
      "application/vnd.jupyter.widget-view+json": {
       "model_id": "f05a59924a1a46c082e0576a710eeeed",
       "version_major": 2,
       "version_minor": 0
      },
      "text/plain": [
       "Loading checkpoint shards:   0%|          | 0/2 [00:00<?, ?it/s]"
      ]
     },
     "metadata": {},
     "output_type": "display_data"
    }
   ],
   "source": [
    "\n",
    "model = AutoModelForCausalLM.from_pretrained(\n",
    "    \"microsoft/Phi-3-mini-128k-instruct\", \n",
    "    device_map=\"cuda\", \n",
    "    torch_dtype=\"auto\", \n",
    "    trust_remote_code=True, \n",
    ")\n",
    "tokenizer = AutoTokenizer.from_pretrained(\"microsoft/Phi-3-mini-128k-instruct\")"
   ]
  },
  {
   "cell_type": "code",
   "execution_count": 7,
   "id": "d2b9e75f-5145-4fb0-879d-2b1bdca6c397",
   "metadata": {
    "execution": {
     "iopub.execute_input": "2025-06-05T15:21:35.401889Z",
     "iopub.status.busy": "2025-06-05T15:21:35.401342Z",
     "iopub.status.idle": "2025-06-05T15:21:35.405275Z",
     "shell.execute_reply": "2025-06-05T15:21:35.404899Z",
     "shell.execute_reply.started": "2025-06-05T15:21:35.401870Z"
    }
   },
   "outputs": [
    {
     "name": "stderr",
     "output_type": "stream",
     "text": [
      "Device set to use cuda\n"
     ]
    }
   ],
   "source": [
    "pipe = pipeline(\n",
    "    \"text-generation\",\n",
    "    model=model,\n",
    "    tokenizer=tokenizer,\n",
    ")"
   ]
  },
  {
   "cell_type": "code",
   "execution_count": 8,
   "id": "2f7698a5-17fa-499a-b684-124a0a23fa89",
   "metadata": {
    "execution": {
     "iopub.execute_input": "2025-06-05T15:21:42.036447Z",
     "iopub.status.busy": "2025-06-05T15:21:42.035737Z",
     "iopub.status.idle": "2025-06-05T15:21:42.039784Z",
     "shell.execute_reply": "2025-06-05T15:21:42.039359Z",
     "shell.execute_reply.started": "2025-06-05T15:21:42.036428Z"
    }
   },
   "outputs": [],
   "source": [
    "def build_prompt(query, search_results):\n",
    "    prompt_template = \"\"\"\n",
    "You're a course teaching assistant. Answer the QUESTION based on the CONTEXT from the FAQ database.\n",
    "Use only the facts from the CONTEXT when answering the QUESTION.\n",
    "\n",
    "QUESTION: {question}\n",
    "\n",
    "CONTEXT:\n",
    "{context}\n",
    "\"\"\".strip()\n",
    "\n",
    "    context = \"\"\n",
    "    \n",
    "    for doc in search_results:\n",
    "        context = context + f\"section: {doc['section']}\\nquestion: {doc['question']}\\nanswer: {doc['text']}\\n\\n\"\n",
    "    \n",
    "    prompt = prompt_template.format(question=query, context=context).strip()\n",
    "    return prompt\n",
    "\n",
    "def llm(prompt):\n",
    "    messages = [\n",
    "        {\"role\": \"user\", \"content\": prompt},\n",
    "    ]\n",
    "    # conversation = f\"<|user|>\\n{prompt}\\n<|assistant|>\\n\"\n",
    "    generation_args = {\n",
    "        \"max_new_tokens\": 500,\n",
    "        \"return_full_text\": False,\n",
    "        \"temperature\": 0.0,\n",
    "        \"do_sample\": False,\n",
    "    }\n",
    "\n",
    "    output = pipe(messages, **generation_args)\n",
    "    return output[0]['generated_text'].strip()"
   ]
  },
  {
   "cell_type": "code",
   "execution_count": null,
   "id": "0ed2d9a6-37ad-4462-9c4c-86407bffc7d2",
   "metadata": {},
   "outputs": [],
   "source": []
  },
  {
   "cell_type": "code",
   "execution_count": null,
   "id": "53b533e3-f43b-4d30-b748-045b1ec0bc74",
   "metadata": {},
   "outputs": [],
   "source": [
    "# rag(\"I just discovered the course. Can I still join it?\")"
   ]
  },
  {
   "cell_type": "code",
   "execution_count": 27,
   "id": "38801af9-c20e-4bf1-b39a-086b3ce253d8",
   "metadata": {
    "execution": {
     "iopub.execute_input": "2025-06-05T15:12:25.047607Z",
     "iopub.status.busy": "2025-06-05T15:12:25.046960Z",
     "iopub.status.idle": "2025-06-05T15:12:25.054074Z",
     "shell.execute_reply": "2025-06-05T15:12:25.053649Z",
     "shell.execute_reply.started": "2025-06-05T15:12:25.047590Z"
    }
   },
   "outputs": [
    {
     "name": "stdout",
     "output_type": "stream",
     "text": [
      "You're a course teaching assistant. Answer the QUESTION based on the CONTEXT from the FAQ database.\n",
      "Use only the facts from the CONTEXT when answering the QUESTION.\n",
      "\n",
      "QUESTION: I just discovered the course. Can I still join it?\n",
      "\n",
      "CONTEXT:\n",
      "section: General course-related questions\n",
      "question: Course - Can I still join the course after the start date?\n",
      "answer: Yes, even if you don't register, you're still eligible to submit the homeworks.\n",
      "Be aware, however, that there will be deadlines for turning in the final projects. So don't leave everything for the last minute.\n",
      "\n",
      "section: General course-related questions\n",
      "question: Course - Can I follow the course after it finishes?\n",
      "answer: Yes, we will keep all the materials after the course finishes, so you can follow the course at your own pace after it finishes.\n",
      "You can also continue looking at the homeworks and continue preparing for the next cohort. I guess you can also start working on your final capstone project.\n",
      "\n",
      "section: General course-related questions\n",
      "question: Course - When will the course start?\n",
      "answer: The purpose of this document is to capture frequently asked technical questions\n",
      "The exact day and hour of the course will be 15th Jan 2024 at 17h00. The course will start with the first  “Office Hours'' live.1\n",
      "Subscribe to course public Google Calendar (it works from Desktop only).\n",
      "Register before the course starts using this link.\n",
      "Join the course Telegram channel with announcements.\n",
      "Don’t forget to register in DataTalks.Club's Slack and join the channel.\n",
      "\n",
      "section: General course-related questions\n",
      "question: Course - What can I do before the course starts?\n",
      "answer: You can start by installing and setting up all the dependencies and requirements:\n",
      "Google cloud account\n",
      "Google Cloud SDK\n",
      "Python 3 (installed with Anaconda)\n",
      "Terraform\n",
      "Git\n",
      "Look over the prerequisites and syllabus to see if you are comfortable with these subjects.\n",
      "\n",
      "section: General course-related questions\n",
      "question: How can we contribute to the course?\n",
      "answer: Star the repo! Share it with friends if you find it useful ❣️\n",
      "Create a PR if you see you can improve the text or the structure of the repository.\n"
     ]
    }
   ],
   "source": [
    "query =\"I just discovered the course. Can I still join it?\"\n",
    "# print(build_prompt(query,search(query)))\n",
    "prompt =build_prompt(query,search(query))\n",
    "# rag(\"I just discovered the course. Can I still join it?\")\n",
    "# print(llm(prompt))\n",
    "print(prompt)"
   ]
  }
 ],
 "metadata": {
  "kernelspec": {
   "display_name": "saturn (Python 3)",
   "language": "python",
   "name": "python3"
  },
  "language_info": {
   "codemirror_mode": {
    "name": "ipython",
    "version": 3
   },
   "file_extension": ".py",
   "mimetype": "text/x-python",
   "name": "python",
   "nbconvert_exporter": "python",
   "pygments_lexer": "ipython3",
   "version": "3.12.9"
  }
 },
 "nbformat": 4,
 "nbformat_minor": 5
}
