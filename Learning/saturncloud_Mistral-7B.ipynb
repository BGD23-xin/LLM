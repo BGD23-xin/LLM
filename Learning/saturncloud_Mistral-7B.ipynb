{
 "cells": [
  {
   "cell_type": "code",
   "execution_count": 1,
   "id": "5ba7c698-7e63-440c-8416-ab897227dd53",
   "metadata": {
    "execution": {
     "iopub.execute_input": "2025-06-06T09:00:20.050992Z",
     "iopub.status.busy": "2025-06-06T09:00:20.050492Z",
     "iopub.status.idle": "2025-06-06T09:00:20.053593Z",
     "shell.execute_reply": "2025-06-06T09:00:20.053173Z",
     "shell.execute_reply.started": "2025-06-06T09:00:20.050975Z"
    }
   },
   "outputs": [],
   "source": [
    "import os\n",
    "os.environ['HF_HOME'] = '/run/cache/'"
   ]
  },
  {
   "cell_type": "code",
   "execution_count": 2,
   "id": "d716f532-e602-4701-8672-397a97805a22",
   "metadata": {
    "execution": {
     "iopub.execute_input": "2025-06-06T09:00:35.645340Z",
     "iopub.status.busy": "2025-06-06T09:00:35.644703Z",
     "iopub.status.idle": "2025-06-06T09:00:38.877591Z",
     "shell.execute_reply": "2025-06-06T09:00:38.877084Z",
     "shell.execute_reply.started": "2025-06-06T09:00:35.645324Z"
    }
   },
   "outputs": [
    {
     "data": {
      "text/plain": [
       "<minsearch.Index at 0x7f62d5f66960>"
      ]
     },
     "execution_count": 2,
     "metadata": {},
     "output_type": "execute_result"
    }
   ],
   "source": [
    "import requests \n",
    "import minsearch\n",
    "\n",
    "docs_url = 'https://github.com/DataTalksClub/llm-zoomcamp/blob/main/01-intro/documents.json?raw=1'\n",
    "docs_response = requests.get(docs_url)\n",
    "documents_raw = docs_response.json()\n",
    "\n",
    "documents = []\n",
    "\n",
    "for course in documents_raw:\n",
    "    course_name = course['course']\n",
    "\n",
    "    for doc in course['documents']:\n",
    "        doc['course'] = course_name\n",
    "        documents.append(doc)\n",
    "\n",
    "index = minsearch.Index(\n",
    "    text_fields=[\"question\", \"text\", \"section\"],\n",
    "    keyword_fields=[\"course\"]\n",
    ")\n",
    "\n",
    "index.fit(documents)"
   ]
  },
  {
   "cell_type": "code",
   "execution_count": 3,
   "id": "2aaba059-9d79-44a7-9a6f-75ac5961fe51",
   "metadata": {
    "execution": {
     "iopub.execute_input": "2025-06-06T09:00:41.501926Z",
     "iopub.status.busy": "2025-06-06T09:00:41.501246Z",
     "iopub.status.idle": "2025-06-06T09:00:41.504449Z",
     "shell.execute_reply": "2025-06-06T09:00:41.504061Z",
     "shell.execute_reply.started": "2025-06-06T09:00:41.501910Z"
    }
   },
   "outputs": [],
   "source": [
    "def search(query):\n",
    "    boost = {'question': 3.0, 'section': 0.5}\n",
    "\n",
    "    results = index.search(\n",
    "        query=query,\n",
    "        filter_dict={'course': 'data-engineering-zoomcamp'},\n",
    "        boost_dict=boost,\n",
    "        num_results=3\n",
    "    )\n",
    "\n",
    "    return results"
   ]
  },
  {
   "cell_type": "code",
   "execution_count": 4,
   "id": "8f04c0c2-ae63-4965-be73-c1ce7ba92859",
   "metadata": {
    "execution": {
     "iopub.execute_input": "2025-06-06T09:00:47.458097Z",
     "iopub.status.busy": "2025-06-06T09:00:47.457469Z",
     "iopub.status.idle": "2025-06-06T09:00:47.460689Z",
     "shell.execute_reply": "2025-06-06T09:00:47.460284Z",
     "shell.execute_reply.started": "2025-06-06T09:00:47.458072Z"
    }
   },
   "outputs": [],
   "source": [
    "def rag(query):\n",
    "    search_results = search(query)\n",
    "    prompt = build_prompt(query, search_results)\n",
    "    answer = llm(prompt)\n",
    "    return answer"
   ]
  },
  {
   "cell_type": "code",
   "execution_count": 5,
   "id": "280b47f4-5b0f-40a3-aac9-0264a5a64251",
   "metadata": {
    "execution": {
     "iopub.execute_input": "2025-06-06T09:00:51.359859Z",
     "iopub.status.busy": "2025-06-06T09:00:51.359233Z",
     "iopub.status.idle": "2025-06-06T09:00:51.362165Z",
     "shell.execute_reply": "2025-06-06T09:00:51.361770Z",
     "shell.execute_reply.started": "2025-06-06T09:00:51.359840Z"
    }
   },
   "outputs": [],
   "source": [
    "os.environ['HF_TOKEN'] = 'hf_blabla'\n"
   ]
  },
  {
   "cell_type": "code",
   "execution_count": 6,
   "id": "00393881-992e-4961-bc2b-67e4389d4141",
   "metadata": {
    "execution": {
     "iopub.execute_input": "2025-06-06T09:00:54.660827Z",
     "iopub.status.busy": "2025-06-06T09:00:54.660195Z",
     "iopub.status.idle": "2025-06-06T09:00:54.803273Z",
     "shell.execute_reply": "2025-06-06T09:00:54.802880Z",
     "shell.execute_reply.started": "2025-06-06T09:00:54.660810Z"
    }
   },
   "outputs": [],
   "source": [
    "from huggingface_hub import login\n"
   ]
  },
  {
   "cell_type": "code",
   "execution_count": 7,
   "id": "6e06fd1f-a804-4a90-8de1-4cc645f0600a",
   "metadata": {
    "execution": {
     "iopub.execute_input": "2025-06-06T09:00:58.295801Z",
     "iopub.status.busy": "2025-06-06T09:00:58.295170Z",
     "iopub.status.idle": "2025-06-06T09:00:59.087638Z",
     "shell.execute_reply": "2025-06-06T09:00:59.086836Z",
     "shell.execute_reply.started": "2025-06-06T09:00:58.295784Z"
    }
   },
   "outputs": [
    {
     "ename": "HTTPError",
     "evalue": "Invalid user token. The token from HF_TOKEN environment variable is invalid. Note that HF_TOKEN takes precedence over `huggingface-cli login`.",
     "output_type": "error",
     "traceback": [
      "\u001b[31m---------------------------------------------------------------------------\u001b[39m",
      "\u001b[31mHTTPError\u001b[39m                                 Traceback (most recent call last)",
      "\u001b[36mFile \u001b[39m\u001b[32m/opt/saturncloud/envs/saturn/lib/python3.12/site-packages/huggingface_hub/utils/_http.py:409\u001b[39m, in \u001b[36mhf_raise_for_status\u001b[39m\u001b[34m(response, endpoint_name)\u001b[39m\n\u001b[32m    408\u001b[39m \u001b[38;5;28;01mtry\u001b[39;00m:\n\u001b[32m--> \u001b[39m\u001b[32m409\u001b[39m     \u001b[43mresponse\u001b[49m\u001b[43m.\u001b[49m\u001b[43mraise_for_status\u001b[49m\u001b[43m(\u001b[49m\u001b[43m)\u001b[49m\n\u001b[32m    410\u001b[39m \u001b[38;5;28;01mexcept\u001b[39;00m HTTPError \u001b[38;5;28;01mas\u001b[39;00m e:\n",
      "\u001b[36mFile \u001b[39m\u001b[32m/opt/saturncloud/envs/saturn/lib/python3.12/site-packages/requests/models.py:1024\u001b[39m, in \u001b[36mResponse.raise_for_status\u001b[39m\u001b[34m(self)\u001b[39m\n\u001b[32m   1023\u001b[39m \u001b[38;5;28;01mif\u001b[39;00m http_error_msg:\n\u001b[32m-> \u001b[39m\u001b[32m1024\u001b[39m     \u001b[38;5;28;01mraise\u001b[39;00m HTTPError(http_error_msg, response=\u001b[38;5;28mself\u001b[39m)\n",
      "\u001b[31mHTTPError\u001b[39m: 401 Client Error: Unauthorized for url: https://huggingface.co/api/whoami-v2",
      "\nThe above exception was the direct cause of the following exception:\n",
      "\u001b[31mHfHubHTTPError\u001b[39m                            Traceback (most recent call last)",
      "\u001b[36mFile \u001b[39m\u001b[32m/opt/saturncloud/envs/saturn/lib/python3.12/site-packages/huggingface_hub/hf_api.py:1746\u001b[39m, in \u001b[36mHfApi.whoami\u001b[39m\u001b[34m(self, token)\u001b[39m\n\u001b[32m   1745\u001b[39m \u001b[38;5;28;01mtry\u001b[39;00m:\n\u001b[32m-> \u001b[39m\u001b[32m1746\u001b[39m     \u001b[43mhf_raise_for_status\u001b[49m\u001b[43m(\u001b[49m\u001b[43mr\u001b[49m\u001b[43m)\u001b[49m\n\u001b[32m   1747\u001b[39m \u001b[38;5;28;01mexcept\u001b[39;00m HTTPError \u001b[38;5;28;01mas\u001b[39;00m e:\n",
      "\u001b[36mFile \u001b[39m\u001b[32m/opt/saturncloud/envs/saturn/lib/python3.12/site-packages/huggingface_hub/utils/_http.py:482\u001b[39m, in \u001b[36mhf_raise_for_status\u001b[39m\u001b[34m(response, endpoint_name)\u001b[39m\n\u001b[32m    480\u001b[39m \u001b[38;5;66;03m# Convert `HTTPError` into a `HfHubHTTPError` to display request information\u001b[39;00m\n\u001b[32m    481\u001b[39m \u001b[38;5;66;03m# as well (request id and/or server error message)\u001b[39;00m\n\u001b[32m--> \u001b[39m\u001b[32m482\u001b[39m \u001b[38;5;28;01mraise\u001b[39;00m _format(HfHubHTTPError, \u001b[38;5;28mstr\u001b[39m(e), response) \u001b[38;5;28;01mfrom\u001b[39;00m\u001b[38;5;250m \u001b[39m\u001b[34;01me\u001b[39;00m\n",
      "\u001b[31mHfHubHTTPError\u001b[39m: 401 Client Error: Unauthorized for url: https://huggingface.co/api/whoami-v2 (Request ID: Root=1-6842ae4a-11c13eb47e37d3840af65838;b4bd6668-758f-4334-b486-42e06050f0ab)\n\nInvalid credentials in Authorization header",
      "\nThe above exception was the direct cause of the following exception:\n",
      "\u001b[31mHTTPError\u001b[39m                                 Traceback (most recent call last)",
      "\u001b[32m/tmp/ipykernel_2506/2709980623.py\u001b[39m in \u001b[36m?\u001b[39m\u001b[34m()\u001b[39m\n\u001b[32m----> \u001b[39m\u001b[32m1\u001b[39m login(token=os.environ[\u001b[33m'HF_TOKEN'\u001b[39m])\n",
      "\u001b[32m/opt/saturncloud/envs/saturn/lib/python3.12/site-packages/huggingface_hub/utils/_deprecation.py\u001b[39m in \u001b[36m?\u001b[39m\u001b[34m(*args, **kwargs)\u001b[39m\n\u001b[32m     97\u001b[39m                 )\n\u001b[32m     98\u001b[39m                 \u001b[38;5;28;01mif\u001b[39;00m custom_message \u001b[38;5;28;01mis\u001b[39;00m \u001b[38;5;28;01mnot\u001b[39;00m \u001b[38;5;28;01mNone\u001b[39;00m:\n\u001b[32m     99\u001b[39m                     message += \u001b[33m\"\\n\\n\"\u001b[39m + custom_message\n\u001b[32m    100\u001b[39m                 warnings.warn(message, FutureWarning)\n\u001b[32m--> \u001b[39m\u001b[32m101\u001b[39m             \u001b[38;5;28;01mreturn\u001b[39;00m f(*args, **kwargs)\n",
      "\u001b[32m/opt/saturncloud/envs/saturn/lib/python3.12/site-packages/huggingface_hub/utils/_deprecation.py\u001b[39m in \u001b[36m?\u001b[39m\u001b[34m(*args, **kwargs)\u001b[39m\n\u001b[32m     27\u001b[39m         @wraps(f)\n\u001b[32m     28\u001b[39m         \u001b[38;5;28;01mdef\u001b[39;00m inner_f(*args, **kwargs):\n\u001b[32m     29\u001b[39m             extra_args = len(args) - len(all_args)\n\u001b[32m     30\u001b[39m             \u001b[38;5;28;01mif\u001b[39;00m extra_args <= \u001b[32m0\u001b[39m:\n\u001b[32m---> \u001b[39m\u001b[32m31\u001b[39m                 \u001b[38;5;28;01mreturn\u001b[39;00m f(*args, **kwargs)\n\u001b[32m     32\u001b[39m             \u001b[38;5;66;03m# extra_args > 0\u001b[39;00m\n\u001b[32m     33\u001b[39m             args_msg = [\n\u001b[32m     34\u001b[39m                 f\"{name}='{arg}'\" \u001b[38;5;28;01mif\u001b[39;00m isinstance(arg, str) \u001b[38;5;28;01melse\u001b[39;00m f\"{name}={arg}\"\n",
      "\u001b[32m/opt/saturncloud/envs/saturn/lib/python3.12/site-packages/huggingface_hub/_login.py\u001b[39m in \u001b[36m?\u001b[39m\u001b[34m(token, add_to_git_credential, new_session, write_permission)\u001b[39m\n\u001b[32m    122\u001b[39m                 \u001b[33m\"`add_to_git_credential=True` in this function directly or \"\u001b[39m\n\u001b[32m    123\u001b[39m                 \u001b[33m\"`--add-to-git-credential` if using via `huggingface-cli` if \"\u001b[39m\n\u001b[32m    124\u001b[39m                 \u001b[33m\"you want to set the git credential as well.\"\u001b[39m\n\u001b[32m    125\u001b[39m             )\n\u001b[32m--> \u001b[39m\u001b[32m126\u001b[39m         _login(token, add_to_git_credential=add_to_git_credential)\n\u001b[32m    127\u001b[39m     \u001b[38;5;28;01melif\u001b[39;00m is_notebook():\n\u001b[32m    128\u001b[39m         notebook_login(new_session=new_session)\n\u001b[32m    129\u001b[39m     \u001b[38;5;28;01melse\u001b[39;00m:\n",
      "\u001b[32m/opt/saturncloud/envs/saturn/lib/python3.12/site-packages/huggingface_hub/_login.py\u001b[39m in \u001b[36m?\u001b[39m\u001b[34m(token, add_to_git_credential)\u001b[39m\n\u001b[32m    400\u001b[39m \n\u001b[32m    401\u001b[39m     \u001b[38;5;28;01mif\u001b[39;00m token.startswith(\u001b[33m\"api_org\"\u001b[39m):\n\u001b[32m    402\u001b[39m         \u001b[38;5;28;01mraise\u001b[39;00m ValueError(\u001b[33m\"You must use your personal account token, not an organization token.\"\u001b[39m)\n\u001b[32m    403\u001b[39m \n\u001b[32m--> \u001b[39m\u001b[32m404\u001b[39m     token_info = whoami(token)\n\u001b[32m    405\u001b[39m     permission = token_info[\u001b[33m\"auth\"\u001b[39m][\u001b[33m\"accessToken\"\u001b[39m][\u001b[33m\"role\"\u001b[39m]\n\u001b[32m    406\u001b[39m     logger.info(f\"Token is valid (permission: {permission}).\")\n\u001b[32m    407\u001b[39m \n",
      "\u001b[32m/opt/saturncloud/envs/saturn/lib/python3.12/site-packages/huggingface_hub/utils/_validators.py\u001b[39m in \u001b[36m?\u001b[39m\u001b[34m(*args, **kwargs)\u001b[39m\n\u001b[32m    110\u001b[39m \n\u001b[32m    111\u001b[39m         \u001b[38;5;28;01mif\u001b[39;00m check_use_auth_token:\n\u001b[32m    112\u001b[39m             kwargs = smoothly_deprecate_use_auth_token(fn_name=fn.__name__, has_token=has_token, kwargs=kwargs)\n\u001b[32m    113\u001b[39m \n\u001b[32m--> \u001b[39m\u001b[32m114\u001b[39m         \u001b[38;5;28;01mreturn\u001b[39;00m fn(*args, **kwargs)\n",
      "\u001b[32m/opt/saturncloud/envs/saturn/lib/python3.12/site-packages/huggingface_hub/hf_api.py\u001b[39m in \u001b[36m?\u001b[39m\u001b[34m(self, token)\u001b[39m\n\u001b[32m   1755\u001b[39m                     \u001b[33m\"Note that HF_TOKEN takes precedence over `huggingface-cli login`.\"\u001b[39m\n\u001b[32m   1756\u001b[39m                 )\n\u001b[32m   1757\u001b[39m             \u001b[38;5;28;01melif\u001b[39;00m effective_token == _get_token_from_file():\n\u001b[32m   1758\u001b[39m                 error_message += \u001b[33m\" The token stored is invalid. Please run `huggingface-cli login` to update it.\"\u001b[39m\n\u001b[32m-> \u001b[39m\u001b[32m1759\u001b[39m             \u001b[38;5;28;01mraise\u001b[39;00m HTTPError(error_message, request=e.request, response=e.response) \u001b[38;5;28;01mfrom\u001b[39;00m e\n\u001b[32m   1760\u001b[39m         \u001b[38;5;28;01mreturn\u001b[39;00m r.json()\n",
      "\u001b[31mHTTPError\u001b[39m: Invalid user token. The token from HF_TOKEN environment variable is invalid. Note that HF_TOKEN takes precedence over `huggingface-cli login`."
     ]
    }
   ],
   "source": [
    "login(token=os.environ['HF_TOKEN'])\n"
   ]
  },
  {
   "cell_type": "code",
   "execution_count": null,
   "id": "e8d9c1ad-f5e3-433a-990b-a0dd35b6f0b8",
   "metadata": {},
   "outputs": [],
   "source": []
  }
 ],
 "metadata": {
  "kernelspec": {
   "display_name": "saturn (Python 3)",
   "language": "python",
   "name": "python3"
  },
  "language_info": {
   "codemirror_mode": {
    "name": "ipython",
    "version": 3
   },
   "file_extension": ".py",
   "mimetype": "text/x-python",
   "name": "python",
   "nbconvert_exporter": "python",
   "pygments_lexer": "ipython3",
   "version": "3.12.9"
  }
 },
 "nbformat": 4,
 "nbformat_minor": 5
}
